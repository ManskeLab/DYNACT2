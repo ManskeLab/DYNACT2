{
 "cells": [
  {
   "cell_type": "code",
   "execution_count": 1,
   "id": "701e821f",
   "metadata": {},
   "outputs": [],
   "source": [
    "import os\n",
    "import sys\n",
    "import vtk\n",
    "import time\n",
    "import numpy as np\n",
    "import pyvista as pv\n",
    "import pymeshfix as mf\n",
    "import matplotlib.pyplot as plt\n",
    "\n",
    "from pyacvd import Clustering\n",
    "from scipy.spatial import KDTree\n",
    "from matplotlib.colors import ListedColormap\n"
   ]
  },
  {
   "cell_type": "code",
   "execution_count": 63,
   "id": "418d3978",
   "metadata": {},
   "outputs": [],
   "source": [
    "mc1_path = '/Users/mkuczyns/Downloads/DYNACT2_200_WBCT_CROP_PERI_MC1_BB_REORIENT_ABAD_TRANSF_ROTATED_BB_CROP.vtk'\n",
    "trp_path = '/Users/mkuczyns/Downloads/DYNACT2_200_WBCT_CROP_PERI_TRP_BB_REORIENT_ABAD_TRANSF_ROTATED.vtk'\n",
    "trp_quad = '/Users/mkuczyns/Downloads/DYNACT2_200_WBCT_CROP_PERI_TRP_BB_REORIENT_ABAD_TRANSF_Q.vtk'\n",
    "\n",
    "reader_mc1 = vtk.vtkPolyDataReader()\n",
    "reader_mc1.SetFileName(mc1_path)\n",
    "reader_mc1.Update()\n",
    "\n",
    "reader_trp = vtk.vtkPolyDataReader()\n",
    "reader_trp.SetFileName(trp_path)\n",
    "reader_trp.Update()\n",
    "\n",
    "mc1_mesh = pv.PolyData(reader_mc1.GetOutput())\n",
    "trp_mesh = pv.PolyData(reader_trp.GetOutput())\n",
    "\n",
    "\n",
    "clean_mc1 = vtk.vtkCleanPolyData()\n",
    "clean_mc1.SetInputConnection(reader_mc1.GetOutputPort())\n",
    "clean_mc1.Update()\n",
    "\n",
    "clean_trp = vtk.vtkCleanPolyData()\n",
    "clean_trp.SetInputConnection(reader_trp.GetOutputPort())\n",
    "clean_trp.Update()\n",
    "\n",
    "smooth_mc1 = vtk.vtkSmoothPolyDataFilter()\n",
    "smooth_mc1.SetInputConnection(clean_mc1.GetOutputPort())\n",
    "smooth_mc1.SetNumberOfIterations(50)\n",
    "smooth_mc1.SetRelaxationFactor(0.2)\n",
    "smooth_mc1.FeatureEdgeSmoothingOff()\n",
    "smooth_mc1.BoundarySmoothingOn()\n",
    "smooth_mc1.Update()\n",
    "\n",
    "smooth_trp = vtk.vtkSmoothPolyDataFilter()\n",
    "smooth_trp.SetInputConnection(clean_trp.GetOutputPort())\n",
    "smooth_trp.SetNumberOfIterations(50)\n",
    "smooth_trp.SetRelaxationFactor(0.2)\n",
    "smooth_trp.FeatureEdgeSmoothingOff()\n",
    "smooth_trp.BoundarySmoothingOn()\n",
    "smooth_trp.Update()\n",
    "\n",
    "smooth_mc1 = pv.wrap(smooth_mc1.GetOutput())\n",
    "smooth_trp = pv.wrap(smooth_trp.GetOutput())\n",
    "\n",
    "mc1_mesh = pv.read(mc1_path)\n",
    "trp_mesh = pv.read(trp_path)\n",
    "trp_quad_mesh = pv.read(trp_quad)\n",
    "\n",
    "mc1_mesh = mc1_mesh.clean()\n",
    "trp_mesh = trp_mesh.clean()\n",
    "trp_quad_mesh = trp_quad_mesh.clean()\n"
   ]
  },
  {
   "cell_type": "code",
   "execution_count": 56,
   "id": "14e78945",
   "metadata": {},
   "outputs": [],
   "source": [
    "# Resampling meshes to have uniform polygons using voronoi clustering\n",
    "cluster_mc1 = Clustering(mc1_mesh)\n",
    "cluster_mc1.subdivide(2)\n",
    "cluster_mc1.cluster(10000)\n",
    "remesh_mc1 = cluster_mc1.create_mesh()\n",
    "\n",
    "cluster_trp = Clustering(trp_mesh)\n",
    "cluster_trp.subdivide(2)\n",
    "cluster_trp.cluster(10000)\n",
    "remesh_trp = cluster_trp.create_mesh()\n"
   ]
  },
  {
   "cell_type": "code",
   "execution_count": 57,
   "id": "2b8363b8",
   "metadata": {},
   "outputs": [
    {
     "data": {
      "application/vnd.jupyter.widget-view+json": {
       "model_id": "55a9b2f0b2504150b40d71be6dbf9540",
       "version_major": 2,
       "version_minor": 0
      },
      "text/plain": [
       "ViewInteractiveWidget(height=768, layout=Layout(height='auto', width='100%'), width=1024)"
      ]
     },
     "metadata": {},
     "output_type": "display_data"
    }
   ],
   "source": [
    "# Mesh smoothing\n",
    "smooth_mc1 = mc1_mesh.smooth(n_iter=200)\n",
    "smooth_trp = trp_mesh.smooth(n_iter=200)\n",
    "\n",
    "# cluster_lunate = Clustering(smooth_lunate)\n",
    "# cluster_lunate.subdivide(2)\n",
    "# cluster_lunate.cluster(2000)\n",
    "# smooth_lunate = cluster_lunate.create_mesh()\n",
    "\n",
    "# cluster_scaphoid = Clustering(smooth_scaphoid)\n",
    "# cluster_scaphoid.subdivide(2)\n",
    "# cluster_scaphoid.cluster(2000)\n",
    "# smooth_scaphoid = cluster_scaphoid.create_mesh()\n",
    "\n",
    "p = pv.Plotter()\n",
    "p.add_mesh(smooth_mc1, color=True, smooth_shading=True)\n",
    "p.add_mesh(smooth_trp, color=True, smooth_shading=True)\n",
    "p.show()"
   ]
  },
  {
   "cell_type": "code",
   "execution_count": 16,
   "id": "5fbd9b8b",
   "metadata": {},
   "outputs": [
    {
     "name": "stdout",
     "output_type": "stream",
     "text": [
      "Area : 24.62\n",
      "Center of mass: [nan nan nan]\n"
     ]
    },
    {
     "data": {
      "application/vnd.jupyter.widget-view+json": {
       "model_id": "d1901797c16a469ca3c2d17761037b6f",
       "version_major": 2,
       "version_minor": 0
      },
      "text/plain": [
       "ViewInteractiveWidget(height=768, layout=Layout(height='auto', width='100%'), width=1024)"
      ]
     },
     "metadata": {},
     "output_type": "display_data"
    }
   ],
   "source": [
    "# USING RAY TRACING\n",
    "# Compute normals\n",
    "normals = smooth_trp.compute_normals(point_normals=True, cell_normals=False, auto_orient_normals=True)\n",
    "\n",
    "normals[\"Proximity\"] = np.empty(smooth_trp.n_points)\n",
    "\n",
    "for i in range(normals.n_points):\n",
    "    p = normals.points[i]\n",
    "    vec = normals[\"Normals\"][i] * normals.length\n",
    "    p0 = p - vec\n",
    "    p1 = p + vec\n",
    "    ip, ic = smooth_mc1.ray_trace(p0, p1, first_point=True)\n",
    "    dist = np.sqrt(np.sum((ip - p)**2))\n",
    "#     print(dist)\n",
    "    normals[\"Proximity\"][i] = dist\n",
    "\n",
    "# Replace zeros with nans\n",
    "mask = normals[\"Proximity\"] == 0\n",
    "normals[\"Proximity\"][mask] = np.nan\n",
    "# np.nanmean(smoothN[\"distances\"])\n",
    "\n",
    "# print(normals[\"Proximity\"][mask])\n",
    "# import sys\n",
    "# sys.exit()\n",
    "\n",
    "mesh = normals\n",
    "trp_contact = mesh.threshold(value=(0, 1.5), scalars=\"Proximity\").extract_surface()\n",
    "# mesh[\"PointIDs\"] = np.arange(mesh.n_points)\n",
    "# evaluated_lunate = mesh.threshold(value=(0, 2.0), scalars=\"Proximity\").extract_surface()\n",
    "\n",
    "# Compute the area and COM of the extracted surface (i.e., the surface we consider as joint contact)\n",
    "# Area is computed in units of pixel^2 so we convert to mm^2 by mutiplying by spacing\n",
    "com = trp_contact.center_of_mass(scalars_weight=True)\n",
    "area = round(trp_contact.area, 2)\n",
    "\n",
    "print('Area : ' + str(area))\n",
    "print('Center of mass: ' + str(com))\n",
    "\n",
    "p = pv.Plotter()\n",
    "p.add_mesh(trp_contact, scalars=\"Proximity\", smooth_shading=True)\n",
    "p.add_mesh(smooth_trp, color=True, opacity=0.75, smooth_shading=True)\n",
    "p.show()"
   ]
  },
  {
   "cell_type": "code",
   "execution_count": 49,
   "id": "59001252",
   "metadata": {},
   "outputs": [
    {
     "data": {
      "application/vnd.jupyter.widget-view+json": {
       "model_id": "1829ab804d2749f28c404e232f2775a3",
       "version_major": 2,
       "version_minor": 0
      },
      "text/plain": [
       "ViewInteractiveWidget(height=768, layout=Layout(height='auto', width='100%'), width=1024)"
      ]
     },
     "metadata": {},
     "output_type": "display_data"
    }
   ],
   "source": [
    "plotter = pv.Plotter(off_screen=True)\n",
    "# plotter.add_mesh(smooth_lunate.threshold(value=(0, 2.0), scalars=\"Proximity\").extract_surface(), scalars=\"Proximity\", clim=[0, 2], cmap=\"gist_rainbow\", smooth_shading=True)\n",
    "plotter.add_mesh(trp_contact, scalars=\"Proximity\", clim=[0, 3], cmap=\"hsv\", smooth_shading=True)\n",
    "plotter.add_mesh(trp_mesh, show_edges=False, opacity=0.3, smooth_shading=True, color='#F9F6EE')\n",
    "# plotter.add_mesh(scaphoid_mesh, show_edges=True, opacity=0.15, smooth_shading=True, color='#F9F6EE')\n",
    "# plotter.add_points(com, render_points_as_spheres=True, point_size=15.0, color='red')\n",
    "plotter.camera_position = 'xz'\n",
    "plotter.camera.azimuth = 65\n",
    "plotter.add_text('Surface Area = ' + str(area) + ' mm^2', position=[0,675], font='times', color='white')\n",
    "plotter.add_text('COM = ' + str(com), font='times', color='white')\n",
    "plotter.show()"
   ]
  },
  {
   "cell_type": "code",
   "execution_count": 72,
   "id": "429ac8b7",
   "metadata": {
    "scrolled": true
   },
   "outputs": [
    {
     "data": {
      "application/vnd.jupyter.widget-view+json": {
       "model_id": "d8682b0f699f4a01ba223771524b3abb",
       "version_major": 2,
       "version_minor": 0
      },
      "text/plain": [
       "ViewInteractiveWidget(height=768, layout=Layout(height='auto', width='100%'), width=1024)"
      ]
     },
     "metadata": {},
     "output_type": "display_data"
    },
    {
     "name": "stdout",
     "output_type": "stream",
     "text": [
      "Area : 173.89\n",
      "Center of mass: [  0.38224066   1.53332819 -20.09800057]\n"
     ]
    }
   ],
   "source": [
    "# USING KD-TREE\n",
    "tree = KDTree(smooth_mc1.points)\n",
    "d, idx = tree.query(smooth_trp.points)\n",
    "smooth_trp[\"Proximity\"] = d\n",
    "# np.mean(d)\n",
    "\n",
    "trp_contact = smooth_trp.threshold(value=(0, 3.0), scalars=\"Proximity\").extract_surface()\n",
    "trp_contact.save(\"/Users/mkuczyns/Downloads/frame_1_contact.vtk\")\n",
    "smooth_trp.save(\"/Users/mkuczyns/Downloads/frame_1_smooth.vtk\")\n",
    "# trp_contact['Proximity'] = trp_contact['Proximity'] - 1.5\n",
    "\n",
    "p = pv.Plotter()\n",
    "# p.add_mesh(smooth_trp, color=True, opacity=0.25, smooth_shading=True)\n",
    "p.add_mesh(trp_quad_mesh, color=\"yellow\", opacity=0.25, smooth_shading=True)\n",
    "p.add_mesh(trp_contact, scalars=\"Proximity\", clim=[0, 3], cmap=\"hsv\", smooth_shading=True)\n",
    "p.show()\n",
    "\n",
    "com = trp_contact.center_of_mass(scalars_weight=True)\n",
    "area = round(trp_contact.area, 2)\n",
    "\n",
    "print('Area : ' + str(area))\n",
    "print('Center of mass: ' + str(com))\n",
    "\n",
    "# smooth_lunate[\"PointIDs\"] = np.arange(smooth_lunate.n_points)\n",
    "# evaluated_lunate = smooth_lunate.threshold(value=(0, 2.0), scalars=\"Proximity\").extract_surface()\n",
    "\n",
    "# evaluated_lunate['Proximity'] = evaluated_lunate['Proximity'] - 2.0\n",
    "\n",
    "# com = evaluated_lunate.center_of_mass(scalars_weight=True)\n",
    "# area = round(evaluated_lunate.area, 2)\n",
    "\n",
    "# print('Area : ' + str(area*0.25))\n",
    "# print('Center of mass: ' + str(com))"
   ]
  },
  {
   "cell_type": "code",
   "execution_count": 62,
   "id": "cdce3e45",
   "metadata": {},
   "outputs": [
    {
     "name": "stdout",
     "output_type": "stream",
     "text": [
      "[[-12.611417    -0.7736051  -22.038797  ]\n",
      " [-12.655273    -0.59322554 -22.215399  ]\n",
      " [-12.60784     -0.5857858  -21.9914    ]\n",
      " ...\n",
      " [  2.5471044    5.623249   -15.373603  ]\n",
      " [  2.6546803    5.8009453  -15.332419  ]\n",
      " [  2.78131      6.1918     -15.4273    ]]\n"
     ]
    },
    {
     "ename": "TypeError",
     "evalue": "find_closest_cell() takes 2 positional arguments but 3 were given",
     "output_type": "error",
     "traceback": [
      "\u001b[0;31m---------------------------------------------------------------------------\u001b[0m",
      "\u001b[0;31mTypeError\u001b[0m                                 Traceback (most recent call last)",
      "\u001b[0;32m/var/folders/07/g0z8ppyx0m90d5r3_h4gvj540000gn/T/ipykernel_35045/865403609.py\u001b[0m in \u001b[0;36m<module>\u001b[0;34m\u001b[0m\n\u001b[1;32m      1\u001b[0m \u001b[0;31m# USING CLOSEST POINTS\u001b[0m\u001b[0;34m\u001b[0m\u001b[0;34m\u001b[0m\u001b[0;34m\u001b[0m\u001b[0m\n\u001b[1;32m      2\u001b[0m \u001b[0mprint\u001b[0m\u001b[0;34m(\u001b[0m\u001b[0msmooth_trp\u001b[0m\u001b[0;34m.\u001b[0m\u001b[0mpoints\u001b[0m\u001b[0;34m)\u001b[0m\u001b[0;34m\u001b[0m\u001b[0;34m\u001b[0m\u001b[0m\n\u001b[0;32m----> 3\u001b[0;31m \u001b[0mclosest_cells\u001b[0m\u001b[0;34m,\u001b[0m \u001b[0mclosest_points\u001b[0m \u001b[0;34m=\u001b[0m \u001b[0msmooth_mc1\u001b[0m\u001b[0;34m.\u001b[0m\u001b[0mfind_closest_cell\u001b[0m\u001b[0;34m(\u001b[0m\u001b[0msmooth_trp\u001b[0m\u001b[0;34m.\u001b[0m\u001b[0mpoints\u001b[0m\u001b[0;34m,\u001b[0m \u001b[0;32mTrue\u001b[0m\u001b[0;34m)\u001b[0m\u001b[0;34m\u001b[0m\u001b[0;34m\u001b[0m\u001b[0m\n\u001b[0m\u001b[1;32m      4\u001b[0m \u001b[0md_exact\u001b[0m \u001b[0;34m=\u001b[0m \u001b[0mnp\u001b[0m\u001b[0;34m.\u001b[0m\u001b[0mlinalg\u001b[0m\u001b[0;34m.\u001b[0m\u001b[0mnorm\u001b[0m\u001b[0;34m(\u001b[0m\u001b[0msmooth_trp\u001b[0m\u001b[0;34m.\u001b[0m\u001b[0mpoints\u001b[0m \u001b[0;34m-\u001b[0m \u001b[0mclosest_points\u001b[0m\u001b[0;34m,\u001b[0m \u001b[0maxis\u001b[0m\u001b[0;34m=\u001b[0m\u001b[0;36m1\u001b[0m\u001b[0;34m)\u001b[0m\u001b[0;34m\u001b[0m\u001b[0;34m\u001b[0m\u001b[0m\n\u001b[1;32m      5\u001b[0m \u001b[0msmooth_trp\u001b[0m\u001b[0;34m[\u001b[0m\u001b[0;34m\"Proximity\"\u001b[0m\u001b[0;34m]\u001b[0m \u001b[0;34m=\u001b[0m \u001b[0md_exact\u001b[0m\u001b[0;34m\u001b[0m\u001b[0;34m\u001b[0m\u001b[0m\n",
      "\u001b[0;31mTypeError\u001b[0m: find_closest_cell() takes 2 positional arguments but 3 were given"
     ]
    }
   ],
   "source": [
    "# USING CLOSEST POINTS\n",
    "print(smooth_trp.points)\n",
    "closest_cells, closest_points = smooth_mc1.find_closest_cell(smooth_trp.points, True)\n",
    "d_exact = np.linalg.norm(smooth_trp.points - closest_points, axis=1)\n",
    "smooth_trp[\"Proximity\"] = d_exact\n",
    "\n",
    "mc1_contact = smooth_trp.threshold(value=(0, 1.5), scalars=\"Proximity\").extract_surface()\n",
    "\n",
    "p = pv.Plotter()\n",
    "p.add_mesh(mc1_contact, scalars=\"Proximity\", smooth_shading=True)\n",
    "p.add_mesh(smooth_trp, color=True, opacity=0.75, smooth_shading=True)\n",
    "p.show()\n",
    "\n",
    "com = mc1_contact.center_of_mass(scalars_weight=True)\n",
    "area = round(mc1_contact.area, 2)\n",
    "\n",
    "print('Area : ' + str(area))\n",
    "print('Center of mass: ' + str(com))\n",
    "\n",
    "# smooth_lunate[\"PointIDs\"] = np.arange(smooth_lunate.n_points)\n",
    "# evaluated_lunate = smooth_lunate.threshold(value=(0, 2.0), scalars=\"Proximity\").extract_surface()\n",
    "\n",
    "# evaluated_lunate['Proximity'] = evaluated_lunate['Proximity'] - 2.0\n",
    "\n",
    "# com = evaluated_lunate.center_of_mass(scalars_weight=True)\n",
    "# area = round(evaluated_lunate.area, 2)\n",
    "\n",
    "# print('Area : ' + str(area*0.25))\n",
    "# print('Center of mass: ' + str(com))"
   ]
  },
  {
   "cell_type": "code",
   "execution_count": 48,
   "id": "7a28e439",
   "metadata": {},
   "outputs": [
    {
     "data": {
      "application/vnd.jupyter.widget-view+json": {
       "model_id": "9f37b049a6984cad81dbcd9eaa1a2e65",
       "version_major": 2,
       "version_minor": 0
      },
      "text/plain": [
       "ViewInteractiveWidget(height=768, layout=Layout(height='auto', width='100%'), width=1024)"
      ]
     },
     "metadata": {},
     "output_type": "display_data"
    }
   ],
   "source": [
    "plotter = pv.Plotter(off_screen=True)\n",
    "# plotter.add_mesh(smooth_lunate.threshold(value=(0, 2.0), scalars=\"Proximity\").extract_surface(), scalars=\"Proximity\", clim=[0, 2], cmap=\"gist_rainbow\", smooth_shading=True)\n",
    "plotter.add_mesh(evaluated_lunate, scalars=\"Proximity\", clim=[0, 2], cmap=\"gist_rainbow\", smooth_shading=True)\n",
    "plotter.add_mesh(lunate_mesh, show_edges=True, opacity=0.15, smooth_shading=True, color='#F9F6EE')\n",
    "plotter.add_mesh(scaphoid_mesh, show_edges=True, opacity=0.15, smooth_shading=True, color='#F9F6EE')\n",
    "# plotter.add_points(com, render_points_as_spheres=True, point_size=15.0, color='red')\n",
    "plotter.camera_position = 'xz'\n",
    "plotter.camera.azimuth = 65\n",
    "plotter.add_text('Surface Area = ' + str(area) + ' mm^2', position=[0,675], font='times', color='white')\n",
    "plotter.add_text('COM = ' + str(com), font='times', color='white')\n",
    "plotter.show()\n"
   ]
  },
  {
   "cell_type": "code",
   "execution_count": null,
   "id": "47585035",
   "metadata": {},
   "outputs": [],
   "source": []
  }
 ],
 "metadata": {
  "kernelspec": {
   "display_name": "Python 3 (ipykernel)",
   "language": "python",
   "name": "python3"
  },
  "language_info": {
   "codemirror_mode": {
    "name": "ipython",
    "version": 3
   },
   "file_extension": ".py",
   "mimetype": "text/x-python",
   "name": "python",
   "nbconvert_exporter": "python",
   "pygments_lexer": "ipython3",
   "version": "3.8.5"
  }
 },
 "nbformat": 4,
 "nbformat_minor": 5
}
